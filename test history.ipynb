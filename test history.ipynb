{
 "cells": [
  {
   "cell_type": "code",
   "execution_count": null,
   "id": "077f0a9e",
   "metadata": {},
   "outputs": [],
   "source": [
    "# multiprocessing using starmap\n",
    "pool = mp.Pool(2)\n",
    "f_hkl = pool.starmap(f_multi, [(i, pos_pop, atom_scat, hkl_pos) for i in range (0, cell_info.shape[0])])\n",
    "pool.close()\n",
    "x_val = 0\n",
    "# Original linear algorithem\n",
    "for x_val in range (0, total_points):\n",
    "    y_val = 0\n",
    "    for hkl_idx in range (0, hkl_info.shape[0]):\n",
    "        if x_y[hkl_idx, 0] > (x_val * step - 10) and x_y[hkl_idx, 0] < (x_val * step + 10):\n",
    "            y_val = y_val + x_y[hkl_idx, 1] * (gaus((x_val*step - x_y[hkl_idx, 0]), H[hkl_idx, 0]) + 0.5 * gaus((x_val*step - x_y[hkl_idx, 0]), H[hkl_idx, 0]))\n",
    "    pattern[x_val, 0] = x_val*step\n",
    "    pattern[x_val, 1] = y_val\n",
    "# Outside input 'for i in range (0, total_points):', call a .py function called func_peak_shape.py.\n",
    "# 'y_multi' will be calculated as Pool(n). For each y_multi, gaus() will be called, xy_merge will be imported."
   ]
  },
  {
   "cell_type": "code",
   "execution_count": 14,
   "id": "caf70194",
   "metadata": {},
   "outputs": [],
   "source": [
    "# range(0, 0)\n",
    "for i in range(0, 0):\n",
    "    print(i)"
   ]
  },
  {
   "cell_type": "code",
   "execution_count": 12,
   "id": "c317bae4",
   "metadata": {},
   "outputs": [
    {
     "name": "stdout",
     "output_type": "stream",
     "text": [
      "(0, 6)\n"
     ]
    }
   ],
   "source": [
    "# Define empty numpy array\n",
    "import numpy as np\n",
    "a = np.zeros((0, 6))\n",
    "print(a.shape[:])"
   ]
  },
  {
   "cell_type": "code",
   "execution_count": null,
   "id": "0d85dd81",
   "metadata": {},
   "outputs": [],
   "source": [
    "# Comparsion between two scattering\n",
    "s = 0\n",
    "neutral = np.array([1.3382,3.2043,5.4558,5.4839,3.6342,0.2838,2.2452,10.2519,41.7251,124.9023])\n",
    "ion = np.array([36.0228,0.529300,23.4128,3.32530,14.9491,16.0927,4.18800,100.613,13.3966])\n",
    "col1 = 0\n",
    "col2 = 0\n",
    "j = 0\n",
    "for j in range (0, 5):\n",
    "    col1 = col1 + neutral[j] * np.exp(- neutral[j+5] * s**2)\n",
    "j = 0\n",
    "for j in range (0, 7, 2):\n",
    "    col2 = col2 + ion[j] * np.exp(- ion[j+1] * s**2)\n",
    "col2 = col2 + ion[8]\n",
    "print(col1, col2)"
   ]
  },
  {
   "cell_type": "code",
   "execution_count": null,
   "id": "411c6656",
   "metadata": {},
   "outputs": [],
   "source": [
    "# Defines chem_dict combining neutral atom and ions\n",
    "scat_table = open('chemical table.txt')\n",
    "scat_table_lines = scat_table.readlines()\n",
    "chem_dict = {}\n",
    "for line in scat_table_lines:\n",
    "    chem_dict[line.split()[0]] = line.split()[1]"
   ]
  },
  {
   "cell_type": "code",
   "execution_count": null,
   "id": "d3323ad3",
   "metadata": {},
   "outputs": [],
   "source": [
    "# This changes chemical table.txt\n",
    "import codecs\n",
    "scat_table = codecs.open('chemical table.txt','r','utf-8')\n",
    "scat_table_lines = scat_table.readlines()\n",
    "new_scat_table = codecs.open('new chemical table.txt', 'a')\n",
    "for line in scat_table_lines:\n",
    "    line = line.replace('\\t', ' ').replace('−', '-')\n",
    "    new_scat_table.write(line)\n",
    "new_scat_table.close()"
   ]
  },
  {
   "cell_type": "code",
   "execution_count": null,
   "id": "8cd71635",
   "metadata": {},
   "outputs": [],
   "source": [
    "# This changes chemical table.txt using re.split\n",
    "import re\n",
    "scat_table = open('new chemical table.txt')\n",
    "scat_table_lines = scat_table.readlines()\n",
    "new_scat_table = open('newnew chemical table.txt', 'a')\n",
    "for count, line in enumerate(scat_table_lines):\n",
    "    if count < 144:\n",
    "        new_scat_table.write(line)\n",
    "    elif count >= 144:\n",
    "        print(re.split('\\s', line, maxsplit=1)[0], count, re.split('\\s', line, maxsplit=1)[1], file=new_scat_table)\n",
    "scat_table.close()\n",
    "new_scat_table.close()"
   ]
  },
  {
   "cell_type": "code",
   "execution_count": null,
   "id": "0a9d671d",
   "metadata": {},
   "outputs": [],
   "source": [
    "# This changes chemical table.txt without re\n",
    "scat_table = open('new chemical table.txt')\n",
    "scat_table_lines = scat_table.readlines()\n",
    "new_scat_table = open('newnew chemical table.txt', 'a')\n",
    "for count, line in enumerate(scat_table_lines):\n",
    "    if count > 97:\n",
    "        new_scat_table.write(line)\n",
    "    elif count <= 97:\n",
    "        new_scat_table.write(line.split(maxsplit=1)[0])\n",
    "        new_scat_table.write(' ')\n",
    "        new_scat_table.write(str(count+1))\n",
    "        new_scat_table.write(' ')\n",
    "        new_scat_table.write(line.split(maxsplit=1)[1])\n",
    "scat_table.close()\n",
    "new_scat_table.close()"
   ]
  },
  {
   "cell_type": "code",
   "execution_count": 2,
   "id": "52d29203",
   "metadata": {},
   "outputs": [
    {
     "name": "stdout",
     "output_type": "stream",
     "text": [
      "ac\n"
     ]
    }
   ],
   "source": [
    "print(\"a\" == \"ab\" or \"ac\")"
   ]
  },
  {
   "cell_type": "code",
   "execution_count": 7,
   "id": "dae8b8a7",
   "metadata": {},
   "outputs": [
    {
     "name": "stdout",
     "output_type": "stream",
     "text": [
      "as\n"
     ]
    }
   ],
   "source": [
    "if False or \"ac\":\n",
    "    print(\"as\")"
   ]
  },
  {
   "cell_type": "code",
   "execution_count": 10,
   "id": "e3e74515",
   "metadata": {},
   "outputs": [
    {
     "data": {
      "text/plain": [
       "True"
      ]
     },
     "execution_count": 10,
     "metadata": {},
     "output_type": "execute_result"
    }
   ],
   "source": [
    "type(\"sting\") == str"
   ]
  },
  {
   "cell_type": "code",
   "execution_count": 15,
   "id": "c63b2020",
   "metadata": {},
   "outputs": [],
   "source": [
    "def abc():\n",
    "    return \"abc\", \"efg\", 1, 5, 6"
   ]
  },
  {
   "cell_type": "code",
   "execution_count": 16,
   "id": "4568f884",
   "metadata": {},
   "outputs": [],
   "source": [
    "abc = abc()"
   ]
  },
  {
   "cell_type": "code",
   "execution_count": 17,
   "id": "5792a948",
   "metadata": {},
   "outputs": [
    {
     "data": {
      "text/plain": [
       "tuple"
      ]
     },
     "execution_count": 17,
     "metadata": {},
     "output_type": "execute_result"
    }
   ],
   "source": [
    "type(abc)"
   ]
  },
  {
   "cell_type": "code",
   "execution_count": 24,
   "id": "3df3f795",
   "metadata": {},
   "outputs": [
    {
     "data": {
      "text/plain": [
       "int"
      ]
     },
     "execution_count": 24,
     "metadata": {},
     "output_type": "execute_result"
    }
   ],
   "source": [
    "type(abc[2])"
   ]
  },
  {
   "cell_type": "code",
   "execution_count": null,
   "id": "7cc0db90",
   "metadata": {},
   "outputs": [],
   "source": []
  }
 ],
 "metadata": {
  "kernelspec": {
   "display_name": "Python 3",
   "language": "python",
   "name": "python3"
  },
  "language_info": {
   "codemirror_mode": {
    "name": "ipython",
    "version": 3
   },
   "file_extension": ".py",
   "mimetype": "text/x-python",
   "name": "python",
   "nbconvert_exporter": "python",
   "pygments_lexer": "ipython3",
   "version": "3.6.5"
  }
 },
 "nbformat": 4,
 "nbformat_minor": 5
}
