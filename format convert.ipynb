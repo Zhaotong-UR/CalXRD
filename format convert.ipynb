{
 "cells": [
  {
   "cell_type": "code",
   "execution_count": 1,
   "id": "586223d6",
   "metadata": {},
   "outputs": [],
   "source": [
    "import numpy as np\n",
    "import os\n",
    "from IPython.display import clear_output\n",
    "import matplotlib.pyplot as plt"
   ]
  },
  {
   "cell_type": "markdown",
   "id": "e5db6697",
   "metadata": {},
   "source": [
    "Below create features and labels of 7 crystal system"
   ]
  },
  {
   "cell_type": "code",
   "execution_count": 4,
   "id": "10fe1b65",
   "metadata": {},
   "outputs": [
    {
     "name": "stdout",
     "output_type": "stream",
     "text": [
      "cod_2312017.txt\n",
      "32187 / 32187\n"
     ]
    }
   ],
   "source": [
    "xrd_dir = \"archive_xrd/2\"\n",
    "count = 0\n",
    "for root, dirs, files in os.walk(xrd_dir):\n",
    "    count_all = len(files)\n",
    "    for xrd_file in files:\n",
    "        label = open(\"archive_format/2/labels.csv\", \"a\")\n",
    "        feature = open(\"archive_format/2/features.csv\", \"a\")\n",
    "        count += 1\n",
    "        clear_output(wait = True)\n",
    "        print(xrd_file)\n",
    "        xrd_file_content = open(root + \"/\" + xrd_file)\n",
    "        xrd_file_lines = xrd_file_content.readlines()\n",
    "        label_vector = np.zeros((1, 7))\n",
    "        label_vector[0, int(xrd_file_lines[1].split()[1]) - 1] = 1\n",
    "        label_vector = label_vector.astype(int)\n",
    "        feature_vector = np.zeros((1, 1800))\n",
    "        i = 0\n",
    "        for i in range (0, 1800):\n",
    "            feature_vector[0, i] = float(xrd_file_lines[i+3].split()[1]) * 1000\n",
    "        feature_vector = feature_vector.astype(int)\n",
    "        label.write(\"\\n\".join(str(item).replace(\"[\", \"\").replace(\"]\", \"\") for item in label_vector.tolist()))\n",
    "        label.write(\"\\n\")\n",
    "        feature.write(\"\\n\".join(str(item).replace(\"[\", \"\").replace(\"]\", \"\") for item in feature_vector.tolist()))\n",
    "        feature.write(\"\\n\")\n",
    "        print(count, \"/\", count_all)\n",
    "        label.close()\n",
    "        feature.close()\n",
    "#         if count == 100:\n",
    "#             break"
   ]
  },
  {
   "cell_type": "markdown",
   "id": "99561890",
   "metadata": {},
   "source": [
    "Below create labels of 230 space groups"
   ]
  },
  {
   "cell_type": "code",
   "execution_count": 3,
   "id": "4db94c5e",
   "metadata": {},
   "outputs": [
    {
     "name": "stdout",
     "output_type": "stream",
     "text": [
      "cod_1564173.txt\n",
      "47049 / 47049\n",
      "Done\n"
     ]
    }
   ],
   "source": [
    "xrd_dir = \"archive_xrd/1\"\n",
    "count = 0\n",
    "for root, dirs, files in os.walk(xrd_dir):\n",
    "    count_all = len(files)\n",
    "    for xrd_file in files:\n",
    "        label230 = open(\"archive_format/47049/labels230.csv\", \"a\")\n",
    "        count += 1\n",
    "        clear_output(wait = True)\n",
    "        print(xrd_file)\n",
    "        xrd_file_content = open(root + \"/\" + xrd_file)\n",
    "        xrd_file_lines = xrd_file_content.readlines()\n",
    "        label230_vector = np.zeros((1, 230))\n",
    "        label230_vector[0, int(float(xrd_file_lines[2].split()[1])) - 1] = 1\n",
    "        label230_vector = label230_vector.astype(int)\n",
    "        label230.write(\"\\n\".join(str(item).replace(\"[\", \"\").replace(\"]\", \"\") for item in label230_vector.tolist()))\n",
    "        label230.write(\"\\n\")\n",
    "        print(count, \"/\", count_all)\n",
    "        label230.close()\n",
    "print(\"Done\")"
   ]
  },
  {
   "cell_type": "markdown",
   "id": "52ff7d3a",
   "metadata": {},
   "source": [
    "Check if there are 0 in space group"
   ]
  },
  {
   "cell_type": "code",
   "execution_count": 7,
   "id": "3ae2ee9e",
   "metadata": {},
   "outputs": [
    {
     "name": "stdout",
     "output_type": "stream",
     "text": [
      "Done\n"
     ]
    }
   ],
   "source": [
    "xrd_dir = \"archive_xrd/1\"\n",
    "count = 0\n",
    "for root, dirs, files in os.walk(xrd_dir):\n",
    "    count_all = len(files)\n",
    "    for xrd_file in files:\n",
    "        count += 1\n",
    "        clear_output(wait = True)\n",
    "        xrd_file_content = open(root + \"/\" + xrd_file)\n",
    "        xrd_file_lines = xrd_file_content.readlines()\n",
    "        if float(xrd_file_lines[2].split()[1]) < 1 or float(xrd_file_lines[2].split()[1]) > 230:\n",
    "            print(\"Warning!\")\n",
    "            break\n",
    "print(\"Done\")"
   ]
  },
  {
   "cell_type": "code",
   "execution_count": null,
   "id": "48c192b5",
   "metadata": {},
   "outputs": [],
   "source": []
  }
 ],
 "metadata": {
  "kernelspec": {
   "display_name": "Python 3",
   "language": "python",
   "name": "python3"
  },
  "language_info": {
   "codemirror_mode": {
    "name": "ipython",
    "version": 3
   },
   "file_extension": ".py",
   "mimetype": "text/x-python",
   "name": "python",
   "nbconvert_exporter": "python",
   "pygments_lexer": "ipython3",
   "version": "3.6.5"
  }
 },
 "nbformat": 4,
 "nbformat_minor": 5
}
