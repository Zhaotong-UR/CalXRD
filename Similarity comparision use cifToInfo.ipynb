{
 "cells": [
  {
   "cell_type": "code",
   "execution_count": 1,
   "id": "a4a0ab2b",
   "metadata": {},
   "outputs": [],
   "source": [
    "import os\n",
    "from IPython.display import display, clear_output\n",
    "from time import *\n",
    "from func_cif_for_similarity_comparision import cifToInfo\n",
    "import numpy as np\n",
    "from IPython.display import display, clear_output\n",
    "\n",
    "cifInfo = open(\"archive_log/cell_log_archive_cif_cod_archive_1_mode_similarity_comparision.txt\")\n",
    "cifInfoLines = cifInfo.readlines()\n",
    "\n",
    "cal_log = open(\"archive_log/cifToInfo\", \"a\")\n",
    "cal_log.close()\n",
    "\n",
    "size = len(cifInfoLines)"
   ]
  },
  {
   "cell_type": "code",
   "execution_count": 2,
   "id": "78ba1814",
   "metadata": {},
   "outputs": [
    {
     "name": "stdout",
     "output_type": "stream",
     "text": [
      "0 59085 12791 59085\n"
     ]
    },
    {
     "name": "stderr",
     "output_type": "stream",
     "text": [
      "IOPub message rate exceeded.\n",
      "The notebook server will temporarily stop sending output\n",
      "to the client in order to avoid crashing it.\n",
      "To change this limit, set the config variable\n",
      "`--NotebookApp.iopub_msg_rate_limit`.\n",
      "\n",
      "Current values:\n",
      "NotebookApp.iopub_msg_rate_limit=1000.0 (msgs/sec)\n",
      "NotebookApp.rate_limit_window=3.0 (secs)\n",
      "\n"
     ]
    }
   ],
   "source": [
    "for i in range (0, size):\n",
    "    for j in range (i+1, size):\n",
    "        clear_output(wait = True)\n",
    "        print(i, size, j, size)\n",
    "        if cifInfoLines[i].split()[1:] == cifInfoLines[j].split()[1:]:\n",
    "            cal_log = open(\"archive_log/cifToInfo\", \"a\")\n",
    "            print(cifInfoLines[i].split()[0], cifInfoLines[j].split()[0], file = cal_log)\n",
    "            cal_log.close()"
   ]
  },
  {
   "cell_type": "code",
   "execution_count": null,
   "id": "d4005ee4",
   "metadata": {},
   "outputs": [],
   "source": []
  }
 ],
 "metadata": {
  "kernelspec": {
   "display_name": "Python 3",
   "language": "python",
   "name": "python3"
  },
  "language_info": {
   "codemirror_mode": {
    "name": "ipython",
    "version": 3
   },
   "file_extension": ".py",
   "mimetype": "text/x-python",
   "name": "python",
   "nbconvert_exporter": "python",
   "pygments_lexer": "ipython3",
   "version": "3.6.5"
  }
 },
 "nbformat": 4,
 "nbformat_minor": 5
}
