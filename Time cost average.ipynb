{
 "cells": [
  {
   "cell_type": "code",
   "execution_count": 1,
   "id": "fc98b2c8",
   "metadata": {},
   "outputs": [],
   "source": [
    "import numpy as np\n",
    "import os\n",
    "from IPython.display import clear_output\n",
    "import matplotlib.pyplot as plt"
   ]
  },
  {
   "cell_type": "code",
   "execution_count": 9,
   "id": "ee0c3c38",
   "metadata": {},
   "outputs": [],
   "source": [
    "log = open(\"archive_log/error_log_archive_cif_cod_archive_4_mode_draw_xrd.txt\")\n",
    "lines = log.readlines()\n",
    "array = []\n",
    "for line in lines:\n",
    "    if \"GOOD\" in line:\n",
    "        array.append(float(line.split()[2]))\n",
    "time_ave = np.average(array)"
   ]
  },
  {
   "cell_type": "code",
   "execution_count": 10,
   "id": "5c7a29b8",
   "metadata": {
    "scrolled": true
   },
   "outputs": [
    {
     "data": {
      "text/plain": [
       "5.48"
      ]
     },
     "execution_count": 10,
     "metadata": {},
     "output_type": "execute_result"
    }
   ],
   "source": [
    "round(time_ave, 2)"
   ]
  },
  {
   "cell_type": "code",
   "execution_count": 4,
   "id": "07a9de7a",
   "metadata": {
    "scrolled": true
   },
   "outputs": [
    {
     "data": {
      "text/plain": [
       "22652"
      ]
     },
     "execution_count": 4,
     "metadata": {},
     "output_type": "execute_result"
    }
   ],
   "source": [
    "len(array)"
   ]
  }
 ],
 "metadata": {
  "kernelspec": {
   "display_name": "Python 3",
   "language": "python",
   "name": "python3"
  },
  "language_info": {
   "codemirror_mode": {
    "name": "ipython",
    "version": 3
   },
   "file_extension": ".py",
   "mimetype": "text/x-python",
   "name": "python",
   "nbconvert_exporter": "python",
   "pygments_lexer": "ipython3",
   "version": "3.6.5"
  }
 },
 "nbformat": 4,
 "nbformat_minor": 5
}
