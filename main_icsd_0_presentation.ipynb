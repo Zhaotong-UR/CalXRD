{
 "cells": [
  {
   "cell_type": "markdown",
   "metadata": {},
   "source": [
    "**Import libraries**"
   ]
  },
  {
   "cell_type": "code",
   "execution_count": 1,
   "metadata": {},
   "outputs": [],
   "source": [
    "import os\n",
    "from IPython.display import display, clear_output\n",
    "from time import *\n",
    "from func_cif_icsd_presentation import *\n",
    "from func_hkl import *\n",
    "import matplotlib.pyplot as plt"
   ]
  },
  {
   "cell_type": "markdown",
   "metadata": {},
   "source": [
    "**File management**"
   ]
  },
  {
   "cell_type": "code",
   "execution_count": 2,
   "metadata": {
    "scrolled": true
   },
   "outputs": [
    {
     "name": "stdout",
     "output_type": "stream",
     "text": [
      "Generating hkl matrix\n",
      "Generating hkl_info\n",
      "Generating hkl_exp\n",
      "Generating hkl_redu\n",
      "Generating hkl_exp2\n",
      "Generating hkl_multi\n",
      "hkl_info done!\n",
      "\n"
     ]
    }
   ],
   "source": [
    "# Here enters the mode of calculation\n",
    "# We have throughly compute \"1\", & data check \"2\"\n",
    "cal_mode = 1\n",
    "\n",
    "# Here enters the folder of you CIF files. (NO slash on left)\n",
    "# in_dir = 'Complex'\n",
    "in_dir = 'archive_cif/icsd_archive'\n",
    "# Here enters the folder of your output files.\n",
    "out_dir = 'archive_presentation'\n",
    "# Calculate hkl planes based on wanted accurracy\n",
    "hkl_max = 14\n",
    "\n",
    "# Use script func_hkl to generate hkl matrix\n",
    "print(\"Generating hkl matrix\")\n",
    "hkl_info = hkl(hkl_max)\n",
    "print(\"hkl_info done!\\n\") # This print is usually ignored"
   ]
  },
  {
   "cell_type": "code",
   "execution_count": 3,
   "metadata": {
    "scrolled": false
   },
   "outputs": [
    {
     "name": "stdout",
     "output_type": "stream",
     "text": [
      "Calculating archive_cif/icsd_archive\\1-7000: YourCustomFileName_CollCode1441.cif\n",
      "1/5 Done: ATOM [[204.       1.       0.5      0.5      0.5      1.    ]\n",
      " [  8.       1.       0.6081   0.7661   0.7021   1.    ]\n",
      " [  8.       2.       0.7931   0.3651   0.6101   1.    ]\n",
      " [  8.       3.       0.1961   0.3761   0.7731   1.    ]\n",
      " [  7.       1.       0.6341   0.2801   0.7801   1.    ]\n",
      " [  8.       4.       0.1092   0.9141   0.7922   1.    ]\n",
      " [  1.       1.       0.9513   0.6082   0.2832   1.    ]\n",
      " [  1.       2.       0.8252   0.7933   0.2032   1.    ]\n",
      " [  1.       3.       0.3082   0.6413   0.0553   1.    ]\n",
      " [  1.       4.       0.3932   0.8983   0.2222   1.    ]\n",
      " [  1.       5.       0.8492   0.1702   0.3523   1.    ]\n",
      " [  1.       6.       0.0473   0.1462   0.2063   1.    ]]\n",
      "2/5 Done: SYMM\n",
      "3/5 Done: ATOM + SYMM\n",
      "[7.   1.   0.63 0.28 0.78 1.  ]\n",
      "[7.   1.   0.37 0.72 0.22 1.  ]\n",
      "hkl_d\n",
      "hkl_2theta\n",
      "lp\n",
      "hkl_pos\n",
      "pos_pop [[1. 1. 1. 1. 1. 1. 1. 1. 1. 1. 1. 1. 1. 1. 1. 1. 1. 1. 1. 1. 1. 1. 1. 1.]]\n",
      "temp_factor\n",
      "atom_scat\n",
      "struc\n",
      "xy_hkl\n",
      "xy_merge\n",
      " [[     14.61    3304099.75132]\n",
      " [     15.4     3336799.27177]\n",
      " [     15.84    3099463.83744]\n",
      " [     23.97    1274752.01027]\n",
      " [     18.24    2048403.8815 ]\n",
      " [     22.09    1354573.21503]\n",
      " [     21.12    1609465.42446]\n",
      " [     23.43    1442899.13975]\n",
      " [     20.82    1562028.42315]\n",
      " [     30.22     616080.82152]]\n",
      "4/5 Done: x_y\n",
      "5/5 Drawing pattern\n",
      "pattern2 3.877\n",
      "Normalization\n"
     ]
    },
    {
     "data": {
      "image/png": "[encoded data removed]",
      "text/plain": [
       "<Figure size 1080x288 with 1 Axes>"
      ]
     },
     "metadata": {
      "needs_background": "light"
     },
     "output_type": "display_data"
    },
    {
     "name": "stdout",
     "output_type": "stream",
     "text": [
      "Writing output\n",
      "Result of  YourCustomFileName_CollCode1441.cif :  GOOD! \n",
      " Progress:  1 / 4028 \n",
      " timecost:  5.068\n",
      "Pipeline complete! Total Fail:  0 / 4028\n"
     ]
    }
   ],
   "source": [
    "from func_cif_icsd_presentation import *\n",
    "# Find current working directory\n",
    "cwdir = os.getcwd()\n",
    "# Count availble CIF files\n",
    "cif_count = 0\n",
    "for path, dirs, files in os.walk(in_dir):\n",
    "    for file in files:\n",
    "        if file.endswith('.cif'):\n",
    "            cif_count += 1\n",
    "\n",
    "# Calculate XRD and show progress\n",
    "x_min = 20\n",
    "x_max = 22\n",
    "cif_cal_count = 0\n",
    "cif_fail_count = 0\n",
    "for path, dirs, files in os.walk(in_dir):\n",
    "    for file in files:\n",
    "        if file.endswith('Code1441.cif'):\n",
    "            # Write a log file\n",
    "            print(\"Calculating \" + path + \": \" + file,)\n",
    "            # Here combines cwd and subdirectory\n",
    "            full_dir = \"{}/{}\".format(cwdir, path)\n",
    "            # Here record timing\n",
    "            time_start = time()\n",
    "            # Here calls main function to calculate XRD and output\n",
    "            cif_return = cif(full_dir, file, out_dir, hkl_info, x_min, x_max, cal_mode)\n",
    "            # Here record timing\n",
    "            time_cost = format(time() - time_start, '.3f')\n",
    "            cif_cal_count += 1\n",
    "            print(\"Result of \", file, \": \", cif_return, \"\\n\", \n",
    "                  \"Progress: \", str(cif_cal_count), \"/\", str(cif_count), \"\\n\",\n",
    "                  \"timecost: \", time_cost)\n",
    "            # Store log files failed calculations\n",
    "            \n",
    "print(\"Pipeline complete! Total Fail: \", cif_fail_count, \"/\", cif_count)"
   ]
  },
  {
   "cell_type": "code",
   "execution_count": null,
   "metadata": {},
   "outputs": [],
   "source": []
  }
 ],
 "metadata": {
  "kernelspec": {
   "display_name": "Python 3 (ipykernel)",
   "language": "python",
   "name": "python3"
  },
  "language_info": {
   "codemirror_mode": {
    "name": "ipython",
    "version": 3
   },
   "file_extension": ".py",
   "mimetype": "text/x-python",
   "name": "python",
   "nbconvert_exporter": "python",
   "pygments_lexer": "ipython3",
   "version": "3.10.0"
  }
 },
 "nbformat": 4,
 "nbformat_minor": 4
}
