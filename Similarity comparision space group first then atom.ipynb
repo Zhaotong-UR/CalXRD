{
 "cells": [
  {
   "cell_type": "code",
   "execution_count": 3,
   "id": "aed9cc0c",
   "metadata": {},
   "outputs": [
    {
     "name": "stdout",
     "output_type": "stream",
     "text": [
      "0/5 Done: CIF\n"
     ]
    }
   ],
   "source": [
    "import os\n",
    "from IPython.display import display, clear_output\n",
    "from time import *\n",
    "from func_cif_for_similarity_comparision import cifToInfo\n",
    "import numpy as np\n",
    "from IPython.display import display, clear_output\n",
    "\n",
    "cwdir = os.getcwd()\n",
    "\n",
    "in_dir = \"archive_cif/cod_archive/1\"\n",
    "\n",
    "\n",
    "cif_count = 0\n",
    "for path, dirs, files in os.walk(in_dir):\n",
    "    for file in files:\n",
    "        if file.endswith(\"cif\"):\n",
    "            cif_count += 1\n",
    "\n",
    "cal_log = open(\"archive_log/cell_log_{}_mode_{}.txt\".format(in_dir.replace(\"/\", \"_\"), \"similarity_comparision_v2\"), \"a\")\n",
    "\n",
    "cif_cal_count = 0\n",
    "cif_fail_count = 0\n",
    "for path, dirs, files in os.walk(in_dir):\n",
    "    for file in files:\n",
    "        if file.endswith(\".cif\"):\n",
    "            full_dir = \"{}/{}\".format(cwdir, path)\n",
    "            cif_return = cifToInfo(full_dir, file)\n",
    "            cif_cal_count += 1\n",
    "            if type(cif_return) != str:\n",
    "                print(cif_return[0], str(int(cif_return[1])), cif_return[2], cif_return[3], cif_return[4], cif_return[5], cif_return[6], cif_return[7], np.array2string(cif_return[8].astype(int)).replace(\"[\", \"\").replace(\"]\", \"\"), file=cal_log)\n",
    "                print(cif_cal_count, \"/\", cif_count)\n",
    "                clear_output(wait = True)\n",
    "cal_log.close()\n",
    "                \n",
    "            \n",
    "\n"
   ]
  },
  {
   "cell_type": "code",
   "execution_count": null,
   "id": "1d887a51",
   "metadata": {},
   "outputs": [],
   "source": []
  }
 ],
 "metadata": {
  "kernelspec": {
   "display_name": "Python 3",
   "language": "python",
   "name": "python3"
  },
  "language_info": {
   "codemirror_mode": {
    "name": "ipython",
    "version": 3
   },
   "file_extension": ".py",
   "mimetype": "text/x-python",
   "name": "python",
   "nbconvert_exporter": "python",
   "pygments_lexer": "ipython3",
   "version": "3.6.5"
  }
 },
 "nbformat": 4,
 "nbformat_minor": 5
}
