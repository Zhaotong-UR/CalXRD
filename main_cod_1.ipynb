{
 "cells": [
  {
   "cell_type": "markdown",
   "metadata": {},
   "source": [
    "**Import libraries**"
   ]
  },
  {
   "cell_type": "code",
   "execution_count": 1,
   "metadata": {},
   "outputs": [],
   "source": [
    "import os\n",
    "from IPython.display import display, clear_output\n",
    "from time import *\n",
    "from func_cif import *\n",
    "from func_hkl import *\n",
    "import matplotlib.pyplot as plt"
   ]
  },
  {
   "cell_type": "markdown",
   "metadata": {},
   "source": [
    "**File management**"
   ]
  },
  {
   "cell_type": "code",
   "execution_count": 2,
   "metadata": {
    "scrolled": true
   },
   "outputs": [
    {
     "name": "stdout",
     "output_type": "stream",
     "text": [
      "Generating hkl matrix\n",
      "Generating hkl_info\n",
      "hkl_info done!\n"
     ]
    }
   ],
   "source": [
    "# Here enters the mode of calculation\n",
    "# We have throughly compute \"1\", & data check \"2\"\n",
    "cal_mode = \"draw_xrd\"\n",
    "\n",
    "# Here enters the folder of you CIF files. (NO slash on left)\n",
    "# in_dir = 'Complex'\n",
    "in_dir = 'archive_cif/cod_archive/4'\n",
    "# Here enters the folder of your output files.\n",
    "out_dir = 'archive_xrd/4'\n",
    "\n",
    "\n",
    "# Calculate hkl planes based on wanted accurracy\n",
    "hkl_max = 10\n",
    "# Use script func_hkl to generate hkl matrix\n",
    "print(\"Generating hkl matrix\")\n",
    "hkl_info = hkl(hkl_max)\n",
    "print(\"hkl_info done!\") # This print is usually ignored\n",
    "\n",
    "# Create log file if not\n",
    "cal_log = open(\"archive_log/error_log_{}_mode_{}.txt\".format(in_dir.replace(\"/\", \"_\"), cal_mode), \"a\")\n",
    "cal_log.close()"
   ]
  },
  {
   "cell_type": "code",
   "execution_count": null,
   "metadata": {
    "scrolled": false
   },
   "outputs": [
    {
     "name": "stdout",
     "output_type": "stream",
     "text": [
      "pattern2 3.232\n"
     ]
    },
    {
     "data": {
      "image/png": "[encoded data removed]",
      "text/plain": [
       "<Figure size 1080x288 with 1 Axes>"
      ]
     },
     "metadata": {
      "needs_background": "light"
     },
     "output_type": "display_data"
    },
    {
     "name": "stdout",
     "output_type": "stream",
     "text": [
      "Writing output\n",
      "Result of  4075999.cif :  GOOD! ,  Good! logged \n",
      " Time cost:  6.331 \n",
      "Progress:  38956 / 157980\n",
      "Calculating archive_cif/cod_archive/4\\07\\60: 4076000.cif\n",
      "1/5 Done: ATOM\n"
     ]
    }
   ],
   "source": [
    "# Find current working directory\n",
    "cwdir = os.getcwd()\n",
    "# Count availble CIF files\n",
    "cif_count = 0\n",
    "for path, dirs, files in os.walk(in_dir):\n",
    "    for file in files:\n",
    "        if file.endswith('.cif'):\n",
    "            cif_count += 1\n",
    "\n",
    "# Calculate XRD and show progress\n",
    "x_min = 0\n",
    "x_max = 180\n",
    "cif_cal_count = 0\n",
    "cif_fail_count = 0\n",
    "for path, dirs, files in os.walk(in_dir):\n",
    "    for file in files:\n",
    "        if file.endswith('.cif'):\n",
    "            # Write a log file\n",
    "            print(\"Calculating \" + path + \": \" + file,)\n",
    "            # Here combines cwd and subdirectory\n",
    "            full_dir = \"{}/{}\".format(cwdir, path)\n",
    "            # Here record timing\n",
    "            time_start = time()\n",
    "            # Here calls main function to calculate XRD and output\n",
    "            cif_return = cif(full_dir, file, out_dir, hkl_info, x_min, x_max, cal_mode)\n",
    "            # Here record timing\n",
    "            time_cost = format(time() - time_start, '.3f')\n",
    "            cif_cal_count += 1\n",
    "            # LOG\n",
    "            if \"Cancel\" in cif_return:\n",
    "                print(\"Result of \", file, \": \", cif_return, \"\\n\", \"Progress: \", str(cif_cal_count), \"/\", str(cif_count))\n",
    "            if \"GOOD\" in cif_return:\n",
    "                cal_log = open(\"archive_log/error_log_{}_mode_{}.txt\".format(in_dir.replace(\"/\", \"_\"), cal_mode), \"a+\")\n",
    "                print(file+\" \"+cif_return+\" \"+str(time_cost), file=cal_log)\n",
    "                print(\"Result of \", file, \": \", cif_return, \", \", \"Good! logged\", \"\\n\", \n",
    "                      'Time cost: ', time_cost, '\\n'\n",
    "                      \"Progress: \", str(cif_cal_count), \"/\", str(cif_count))\n",
    "                cal_log.close()\n",
    "            if \"Fail\" in cif_return:\n",
    "                error_judge = False\n",
    "                # Examine log file\n",
    "                cal_log = open(\"archive_log/error_log_{}_mode_{}.txt\".format(in_dir.replace(\"/\", \"_\"), cal_mode), \"r\")\n",
    "                cal_log_lines = cal_log.readlines()\n",
    "                for line in cal_log_lines:\n",
    "                    if file in line:\n",
    "                        error_judge = True\n",
    "                        print(\"Result of \", file, \": \", cif_return, \", \", \"Cancelled: log exist\", \"\\n\", \"Progress: \", str(cif_cal_count), \"/\", str(cif_count))\n",
    "                cal_log.close()\n",
    "                # If not found, log this new fail\n",
    "                if error_judge == False:\n",
    "                    cal_log = open(\"archive_log/error_log_{}_mode_{}.txt\".format(in_dir.replace(\"/\", \"_\"), cal_mode), \"a+\")\n",
    "                    print(file+\" \"+cif_return, file=cal_log)\n",
    "                    print(\"Result of \", file, \": \", cif_return, \", \", \"Failed! logged\", \"\\n\", \"Progress: \", str(cif_cal_count), \"/\", str(cif_count))\n",
    "                    cal_log.close()\n",
    "                cif_fail_count += 1\n",
    "            \n",
    "print(\"Pipeline complete! Total Fail: \", cif_fail_count, \"/\", cif_count)"
   ]
  },
  {
   "cell_type": "code",
   "execution_count": null,
   "metadata": {},
   "outputs": [],
   "source": [
    "\n",
    "\n",
    "\n",
    "\n",
    "\n",
    "\n",
    "\n",
    "\n",
    "\n",
    "\n",
    "\n",
    "\n",
    "\n",
    "\n",
    "\n",
    "\n",
    "\n"
   ]
  }
 ],
 "metadata": {
  "kernelspec": {
   "display_name": "Python 3",
   "language": "python",
   "name": "python3"
  },
  "language_info": {
   "codemirror_mode": {
    "name": "ipython",
    "version": 3
   },
   "file_extension": ".py",
   "mimetype": "text/x-python",
   "name": "python",
   "nbconvert_exporter": "python",
   "pygments_lexer": "ipython3",
   "version": "3.6.5"
  }
 },
 "nbformat": 4,
 "nbformat_minor": 4
}
